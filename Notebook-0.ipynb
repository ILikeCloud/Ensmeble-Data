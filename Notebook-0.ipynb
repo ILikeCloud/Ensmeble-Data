{
    "metadata": {
        "kernelspec": {
            "name": "SQL",
            "display_name": "SQL",
            "language": "sql"
        },
        "language_info": {
            "name": "sql",
            "version": ""
        }
    },
    "nbformat_minor": 2,
    "nbformat": 4,
    "cells": [
        {
            "cell_type": "code",
            "source": [
                "select top 10 *\r\n",
                "from jobs\r\n",
                "order by jobid desc"
            ],
            "metadata": {
                "azdata_cell_guid": "5e652cf9-3ab3-44a6-a9e0-fe4115b32204",
                "tags": []
            },
            "outputs": [],
            "execution_count": 1
        },
        {
            "cell_type": "code",
            "source": [
                "update Jobs\r\n",
                "set EngagementTypeId = 1\r\n",
                "where jobid = 259047"
            ],
            "metadata": {
                "azdata_cell_guid": "6c5b55e4-ed46-401e-a347-82956f79aac5",
                "tags": []
            },
            "outputs": [],
            "execution_count": 7
        },
        {
            "cell_type": "code",
            "source": [
                "select * from jobs\r\n",
                "where EngagementTypeId is null"
            ],
            "metadata": {
                "azdata_cell_guid": "479f2618-adc9-47b2-9b3d-61947781b8eb"
            },
            "outputs": [],
            "execution_count": 3
        },
        {
            "cell_type": "code",
            "source": [
                "ALTER TABLE\r\n",
                "  jobs\r\n",
                "ALTER COLUMN\r\n",
                "  EngagementTypeId\r\n",
                "    int NOT NULL;"
            ],
            "metadata": {
                "azdata_cell_guid": "34e30595-1bb1-42e0-9099-df92e40695ce"
            },
            "outputs": [],
            "execution_count": 5
        },
        {
            "cell_type": "code",
            "source": [
                "SELECT top 100 * FROM jobs\r\n",
                "  FOR SYSTEM_TIME\r\n",
                "    BETWEEN '2014-01-01 00:00:00.0000000' AND '2019-12-31 00:00:00.0000000'\r\n",
                ""
            ],
            "metadata": {
                "azdata_cell_guid": "8705f61b-8522-4d1f-9110-485497d0be77"
            },
            "outputs": [],
            "execution_count": 9
        }
    ]
}